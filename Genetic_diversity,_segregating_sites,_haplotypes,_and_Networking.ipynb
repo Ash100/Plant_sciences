{
  "nbformat": 4,
  "nbformat_minor": 0,
  "metadata": {
    "colab": {
      "provenance": [],
      "authorship_tag": "ABX9TyMWHGdL/nHS4I18PH6UJE9D",
      "include_colab_link": true
    },
    "kernelspec": {
      "name": "python3",
      "display_name": "Python 3"
    },
    "language_info": {
      "name": "python"
    }
  },
  "cells": [
    {
      "cell_type": "markdown",
      "metadata": {
        "id": "view-in-github",
        "colab_type": "text"
      },
      "source": [
        "<a href=\"https://colab.research.google.com/github/Ash100/Plant_sciences/blob/main/Genetic_diversity%2C_segregating_sites%2C_haplotypes%2C_and_Networking.ipynb\" target=\"_parent\"><img src=\"https://colab.research.google.com/assets/colab-badge.svg\" alt=\"Open In Colab\"/></a>"
      ]
    },
    {
      "cell_type": "markdown",
      "source": [
        "This notebook is writen by **Dr. Ashfaq Ahmad** and you are allowed to use them for accademic teachings and research purposes. For complete understandings, you are suggested to watch complete video tutorial on [Bioinformatics Insights](https://youtu.be/gCo0vKg1MQg)."
      ],
      "metadata": {
        "id": "aegjQVv51dOP"
      }
    },
    {
      "cell_type": "markdown",
      "source": [
        "#Contents\n",
        "1. Nucleotide Diversity\n",
        "2. Segregating Sites (Gene Segregation)\n",
        "3. Haplotypes Distribution\n",
        "4. Haplotypes Networking"
      ],
      "metadata": {
        "id": "6S75KXFR3Rnj"
      }
    },
    {
      "cell_type": "markdown",
      "source": [
        "**Nucleotide Diversity (Pi)**\n",
        "Nucleotide diversity is a molecular genetics concept that measures the amount of genetic variation in a population (sequence alignment you input). Nucleotide diversity can be measured in terms of allele or haplotype frequencies.\n",
        "\n",
        "**Segregation**\n",
        "The process by which individual genes are separated and passed down from parents to offspring.\n",
        "\n",
        "**Segregating Sites**\n",
        "Segregating sites are positions in a sequence alignment that show differences between related genes.\n",
        "\n",
        "**Haplotypes / Haplotypes Distribution or Frequeny** A haplotype is a group of genes or DNA variants that are inherited together from a single parent.\n",
        "\n",
        "**Haplotypes Networking** A haplotype network is a visual representation of the relationships different haplotypes in a population (sequences used). It is useful in infering evolutionary relationships."
      ],
      "metadata": {
        "id": "mFjwZAop3yYe"
      }
    },
    {
      "cell_type": "code",
      "execution_count": null,
      "metadata": {
        "id": "v3fR-53B1Amq",
        "cellView": "form"
      },
      "outputs": [],
      "source": [
        "#@title Install biopython\n",
        "!pip install biopython"
      ]
    },
    {
      "cell_type": "code",
      "source": [
        "#@title Sequence alignment upload in FASTA\n",
        "from google.colab import files\n",
        "\n",
        "uploaded = files.upload()"
      ],
      "metadata": {
        "id": "_420c4cWRS0U",
        "cellView": "form"
      },
      "execution_count": null,
      "outputs": []
    },
    {
      "cell_type": "code",
      "source": [
        "#@title Import of necessary libraries\n",
        "from Bio import SeqIO\n",
        "from Bio.Seq import Seq\n",
        "from Bio.SeqRecord import SeqRecord\n",
        "from Bio.Align import MultipleSeqAlignment\n",
        "import numpy as np\n",
        "\n",
        "# Load the sequences from the uploaded FASTA file\n",
        "fasta_file = next(iter(uploaded))  # Get the file name\n",
        "sequences = list(SeqIO.parse(fasta_file, \"fasta\"))"
      ],
      "metadata": {
        "id": "6CPlo2VtRhb-",
        "cellView": "form"
      },
      "execution_count": 5,
      "outputs": []
    },
    {
      "cell_type": "code",
      "source": [
        "#@title Setting Function to Calculate Nucleotide Diversity (Pi)\n",
        "alignment = MultipleSeqAlignment(sequences)\n",
        "\n",
        "# Function to calculate nucleotide diversity (Pi)\n",
        "def calculate_nucleotide_diversity(alignment):\n",
        "    num_sequences = len(alignment)\n",
        "    num_sites = alignment.get_alignment_length()\n",
        "    pairwise_differences = 0\n",
        "\n",
        "    for i in range(num_sequences):\n",
        "        for j in range(i + 1, num_sequences):\n",
        "            pairwise_differences += sum(base1 != base2 for base1, base2 in zip(alignment[i].seq, alignment[j].seq))\n",
        "\n",
        "    total_comparisons = num_sequences * (num_sequences - 1) / 2\n",
        "    nucleotide_diversity = pairwise_differences / (total_comparisons * num_sites)\n",
        "    return nucleotide_diversity"
      ],
      "metadata": {
        "id": "rKistVKtRmKM",
        "cellView": "form"
      },
      "execution_count": 6,
      "outputs": []
    },
    {
      "cell_type": "code",
      "source": [
        "#@title Calculate nucleotide diversity (Pi)\n",
        "nucleotide_diversity = calculate_nucleotide_diversity(alignment)\n",
        "print(f\"Nucleotide Diversity (Pi): {nucleotide_diversity}\")"
      ],
      "metadata": {
        "id": "F3ur6Yn0Rs5E",
        "cellView": "form"
      },
      "execution_count": null,
      "outputs": []
    },
    {
      "cell_type": "markdown",
      "source": [
        "Now, we have successfully calculated nucleotide diversity in our population (sequence) dataset. We are going to calculate Segregation Site in the given dataset.\n",
        "\n",
        "**Important** Please change the name for your sequence data file in the below code, otherwise, it will generate a code. How to do?\n",
        "Look on the Directory (folder) image on left side. Now click on the three vertical dots present in front of the upload .fas file. Select copy path. Now click the show code below, and look to the 4th line (counting from the bottom).\n",
        "paste in for name in (\" \")."
      ],
      "metadata": {
        "id": "4IVBKiLO8sl1"
      }
    },
    {
      "cell_type": "code",
      "source": [
        "#@title Calculate segregating sites\n",
        "\n",
        "from Bio import AlignIO\n",
        "\n",
        "def calculate_segregating_sites(alignment):\n",
        "    \"\"\"\n",
        "    Calculate the number of segregating sites in a multiple sequence alignment.\n",
        "\n",
        "    Parameters:\n",
        "    - alignment: A MultipleSeqAlignment object from Biopython.\n",
        "\n",
        "    Returns:\n",
        "    - segregating_sites: Number of segregating sites in the alignment.\n",
        "    \"\"\"\n",
        "    num_sites = alignment.get_alignment_length()\n",
        "    segregating_sites = 0\n",
        "\n",
        "    for i in range(num_sites):\n",
        "        column = alignment[:, i]\n",
        "        unique_bases = set(column)\n",
        "        if len(unique_bases) > 1:\n",
        "            segregating_sites += 1\n",
        "\n",
        "    return segregating_sites\n",
        "\n",
        "# Load your alignment file (adjust the file path and format as needed)\n",
        "alignment = AlignIO.read(\"/content/1-tRNA sequences.fas\", \"fasta\")  # Change to your file and format\n",
        "\n",
        "# Calculate segregating sites\n",
        "segregating_sites = calculate_segregating_sites(alignment)\n",
        "print(f\"Segregating Sites: {segregating_sites}\")"
      ],
      "metadata": {
        "id": "RIogzNfRRz5U"
      },
      "execution_count": null,
      "outputs": []
    },
    {
      "cell_type": "code",
      "source": [
        "#@title Visualize Segregation sites\n",
        "import matplotlib.pyplot as plt\n",
        "import seaborn as sns\n",
        "import numpy as np\n",
        "\n",
        "def calculate_segregating_sites(alignment):\n",
        "    num_sites = alignment.get_alignment_length()\n",
        "    segregating_sites = []\n",
        "\n",
        "    for i in range(num_sites):\n",
        "        column = alignment[:, i]\n",
        "        unique_bases = set(column)\n",
        "        if len(unique_bases) > 1:\n",
        "            segregating_sites.append(i)\n",
        "\n",
        "    return segregating_sites\n",
        "\n",
        "# Calculate segregating sites\n",
        "segregating_sites = calculate_segregating_sites(alignment)\n",
        "print(f\"Segregating Sites: {len(segregating_sites)}\")\n",
        "\n",
        "# Create a binary matrix where 1 indicates a segregating site and 0 indicates non-segregating\n",
        "num_sites = alignment.get_alignment_length()\n",
        "segregating_matrix = np.zeros((1, num_sites))\n",
        "\n",
        "for site in segregating_sites:\n",
        "    segregating_matrix[0, site] = 1\n",
        "\n",
        "# Plot the segregating sites with position numbers\n",
        "plt.figure(figsize=(20, 4), dpi=300)\n",
        "ax = sns.heatmap(segregating_matrix, cmap=\"viridis\", cbar=True, cbar_kws={'label': 'Segregating Site'},\n",
        "                 xticklabels=False, yticklabels=False, linewidths=0.5, linecolor='black', annot=False)\n",
        "\n",
        "# Set x-axis ticks only at the segregating site positions\n",
        "ax.set_xticks(segregating_sites)\n",
        "ax.set_xticklabels([str(site + 1) for site in segregating_sites], fontsize=12, rotation=90)\n",
        "\n",
        "# Improve plot aesthetics\n",
        "plt.title('Segregating Sites in the Alignment', fontsize=16, fontweight='bold')\n",
        "plt.xlabel('Position in Alignment', fontsize=14)\n",
        "plt.ylabel('Segregating Sites', fontsize=14)\n",
        "plt.yticks(fontsize=12)\n",
        "plt.grid(True, which='both', linestyle='--', linewidth=0.5, color='gray')\n",
        "\n",
        "# Save the plot to a file\n",
        "plt.tight_layout()\n",
        "plt.savefig('segregating_sites_heatmap.png', dpi=300)\n",
        "plt.show()"
      ],
      "metadata": {
        "cellView": "form",
        "id": "aEUDXD4tZF49"
      },
      "execution_count": null,
      "outputs": []
    },
    {
      "cell_type": "markdown",
      "source": [
        "Next, we are proceeding to calculate Haplotype Diversity"
      ],
      "metadata": {
        "id": "neh53p5e9alX"
      }
    },
    {
      "cell_type": "code",
      "source": [
        "#@title Calculate Haplotype Diversity\n",
        "def calculate_haplotype_diversity(sequences):\n",
        "    num_sequences = len(sequences)\n",
        "    haplotypes = set(str(record.seq) for record in sequences)\n",
        "    haplotype_counts = [sum(1 for record in sequences if str(record.seq) == haplotype) for haplotype in haplotypes]\n",
        "    haplotype_freqs = [count / num_sequences for count in haplotype_counts]\n",
        "    haplotype_diversity = 1 - sum(f ** 2 for f in haplotype_freqs)\n",
        "    return haplotype_diversity\n",
        "\n",
        "# Calculate haplotype diversity\n",
        "haplotype_diversity = calculate_haplotype_diversity(sequences)\n",
        "print(f\"Haplotype Diversity: {haplotype_diversity}\")"
      ],
      "metadata": {
        "id": "Qh1vcYPtSJTI",
        "cellView": "form"
      },
      "execution_count": null,
      "outputs": []
    },
    {
      "cell_type": "code",
      "source": [
        "#@title Plot Haplotype Frequency through Matplot\n",
        "import matplotlib.pyplot as plt\n",
        "\n",
        "def calculate_haplotype_diversity(sequences):\n",
        "    \"\"\"\n",
        "    Calculate haplotype diversity based on the sequence records.\n",
        "\n",
        "    Parameters:\n",
        "    - sequences: A list of sequence records from Biopython.\n",
        "\n",
        "    Returns:\n",
        "    - haplotype_diversity: Haplotype diversity index.\n",
        "    \"\"\"\n",
        "    num_sequences = len(sequences)\n",
        "\n",
        "    # Extract haplotypes and their counts\n",
        "    haplotypes = [str(record.seq) for record in sequences]\n",
        "    unique_haplotypes = list(set(haplotypes))\n",
        "    haplotype_counts = [haplotypes.count(haplotype) for haplotype in unique_haplotypes]\n",
        "\n",
        "    # Calculate frequencies\n",
        "    haplotype_freqs = [count / num_sequences for count in haplotype_counts]\n",
        "\n",
        "    # Calculate haplotype diversity using Simpson's index\n",
        "    haplotype_diversity = 1 - sum(f ** 2 for f in haplotype_freqs)\n",
        "\n",
        "    return unique_haplotypes, haplotype_counts, haplotype_diversity\n",
        "\n",
        "# Example sequences (replace with your actual data)\n",
        "# Each record should have an id (name) and seq (sequence)\n",
        "from Bio import SeqIO\n",
        "sequences = list(SeqIO.parse(\"/content/1-tRNA sequences.fas\", \"fasta\"))  # Replace with your file and format\n",
        "\n",
        "# Calculate haplotype diversity and get haplotype data\n",
        "unique_haplotypes, haplotype_counts, haplotype_diversity = calculate_haplotype_diversity(sequences)\n",
        "print(f\"Haplotype Diversity: {haplotype_diversity}\")"
      ],
      "metadata": {
        "id": "wnB3GcNuW1hm",
        "cellView": "form"
      },
      "execution_count": null,
      "outputs": []
    },
    {
      "cell_type": "code",
      "source": [
        "#@title Create a mapping from haplotype label to members\n",
        "haplotype_members = {f'Haplotype {i+1}': [] for i in range(len(unique_haplotypes))}\n",
        "for record in sequences:\n",
        "    haplotype_label = f'Haplotype {unique_haplotypes.index(str(record.seq))+1}'\n",
        "    haplotype_members[haplotype_label].append(record.id)\n",
        "\n",
        "# Pie chart for Haplotype Diversity\n",
        "plt.figure(figsize=(14, 7))\n",
        "plt.subplot(1, 2, 1)\n",
        "wedges, texts, autotexts = plt.pie(haplotype_counts, labels=[f'Haplotype {i+1}' for i in range(len(unique_haplotypes))],\n",
        "                                   autopct='%1.1f%%', startangle=140)\n",
        "plt.title('Haplotype Distribution')\n",
        "\n",
        "# Add legend\n",
        "plt.legend(wedges, [f'Haplotype {i+1}' for i in range(len(unique_haplotypes))],\n",
        "           title=\"Haplotypes\", loc=\"center left\", bbox_to_anchor=(1, 0, 0.5, 1))\n",
        "\n",
        "# Save the plot as a 600 DPI PNG image\n",
        "plt.tight_layout()\n",
        "plt.savefig(\"haplotype_frequency.png\", dpi=600, format='png')  # High DPI save\n",
        "\n",
        "plt.show()\n",
        "\n",
        "# Print members of each haplotype\n",
        "for haplotype, members in haplotype_members.items():\n",
        "    print(f\"{haplotype}:\")\n",
        "    for member in members:\n",
        "        print(f\"  - {member}\")\n"
      ],
      "metadata": {
        "cellView": "form",
        "id": "BfOdWPIwApyD"
      },
      "execution_count": null,
      "outputs": []
    },
    {
      "cell_type": "markdown",
      "source": [
        "Here, we have successfully calculated the Genetic Diversity, Segregation Site, Haplotypes and their Frequencies. Now, we are proceeding to network those haplotypes and elucidate some meaningful associations. We will use networkx, matplot.\n",
        "\n",
        "To further clarify, I have used a function that first calculates Hamming distance between the sequences present in the dataset, and then based on those Hamming distances we will build Haplotype Network."
      ],
      "metadata": {
        "id": "EDwPCU7aC5Bg"
      }
    },
    {
      "cell_type": "code",
      "source": [
        "#@title Haplotype Networking\n",
        "import networkx as nx\n",
        "import matplotlib.pyplot as plt\n",
        "from itertools import combinations\n",
        "import numpy as np\n",
        "\n",
        "def hamming_distance(seq1, seq2):\n",
        "    \"\"\"Calculate the Hamming distance between two sequences.\"\"\"\n",
        "    return sum(c1 != c2 for c1, c2 in zip(seq1, seq2))\n",
        "\n",
        "def create_haplotype_network(haplotypes):\n",
        "    \"\"\"Create a haplotype network based on Hamming distances.\"\"\"\n",
        "    G = nx.Graph()\n",
        "\n",
        "    # Add nodes (haplotypes)\n",
        "    for haplotype in haplotypes:\n",
        "        G.add_node(haplotype)\n",
        "\n",
        "    # Calculate pairwise distances and add edges\n",
        "    for hap1, hap2 in combinations(haplotypes, 2):\n",
        "        distance = hamming_distance(hap1, hap2)\n",
        "        G.add_edge(hap1, hap2, weight=distance)\n",
        "\n",
        "    return G\n",
        "\n",
        "# Example sequences (replace with your actual data)\n",
        "haplotypes = [str(record.seq) for record in sequences]  # Convert sequences to haplotypes\n",
        "\n",
        "# Create the haplotype network\n",
        "G = create_haplotype_network(haplotypes)"
      ],
      "metadata": {
        "id": "y13R3uXxxsp1",
        "cellView": "form"
      },
      "execution_count": 13,
      "outputs": []
    },
    {
      "cell_type": "code",
      "source": [
        "#@title Run it\n",
        "import networkx as nx\n",
        "import matplotlib.pyplot as plt\n",
        "from itertools import combinations\n",
        "import matplotlib.patches as mpatches\n",
        "import numpy as np\n",
        "\n",
        "def hamming_distance(seq1, seq2):\n",
        "    \"\"\"Calculate the Hamming distance between two sequences.\"\"\"\n",
        "    return sum(c1 != c2 for c1, c2 in zip(seq1, seq2))\n",
        "\n",
        "def create_haplotype_network(haplotypes):\n",
        "    \"\"\"Create a haplotype network based on Hamming distances.\"\"\"\n",
        "    unique_haplotypes = list(set(haplotypes))  # Extract unique haplotypes\n",
        "    haplotype_to_label = {hap: f'Haplotype {i+1}' for i, hap in enumerate(unique_haplotypes)}\n",
        "\n",
        "    G = nx.Graph()\n",
        "\n",
        "    # Add nodes with haplotype labels\n",
        "    for hap in unique_haplotypes:\n",
        "        G.add_node(hap, label=haplotype_to_label[hap])\n",
        "\n",
        "    # Calculate pairwise distances and add edges\n",
        "    for hap1, hap2 in combinations(unique_haplotypes, 2):\n",
        "        distance = hamming_distance(hap1, hap2)\n",
        "        G.add_edge(hap1, hap2, weight=distance)\n",
        "\n",
        "    return G, haplotype_to_label\n",
        "\n",
        "# Example sequences (replace with your actual data)\n",
        "# Extract haplotypes\n",
        "haplotypes = [str(record.seq) for record in sequences]\n",
        "\n",
        "# Create the haplotype network\n",
        "G, haplotype_to_label = create_haplotype_network(haplotypes)\n",
        "\n",
        "# Generate a color map for haplotypes\n",
        "colors = plt.cm.get_cmap('tab20', len(set(haplotypes)))\n",
        "\n",
        "# Assign a color to each haplotype\n",
        "haplotype_colors = {hap: colors(i) for i, hap in enumerate(set(haplotypes))}\n",
        "\n",
        "# Draw the network\n",
        "plt.figure(figsize=(8, 8))\n",
        "\n",
        "# Compute positions using a layout algorithm\n",
        "pos = nx.spring_layout(G, seed=42)  # Use seed for reproducibility\n",
        "\n",
        "# Draw nodes with specific colors\n",
        "node_colors = [haplotype_colors[hap] for hap in G.nodes()]\n",
        "nx.draw_networkx_nodes(G, pos, node_size=3000, node_color=node_colors, alpha=0.8)\n",
        "\n",
        "# Draw edges\n",
        "nx.draw_networkx_edges(G, pos, width=2, alpha=0.5, edge_color='gray')\n",
        "\n",
        "# Draw node labels\n",
        "nx.draw_networkx_labels(G, pos, labels={node: haplotype_to_label[node] for node in G.nodes()}, font_size=10, font_family='sans-serif')\n",
        "\n",
        "# Draw edge labels (distances)\n",
        "edge_labels = nx.get_edge_attributes(G, 'weight')\n",
        "nx.draw_networkx_edge_labels(G, pos, edge_labels=edge_labels, font_size=8)\n",
        "\n",
        "# Prepare legend with haplotype labels and colors\n",
        "handles = [mpatches.Patch(color=haplotype_colors[hap], label=label) for hap, label in haplotype_to_label.items()]\n",
        "plt.legend(handles=handles, title=\"Haplotypes\", loc=\"center left\", bbox_to_anchor=(1, 0, 0.5, 1))\n",
        "\n",
        "plt.title('Haplotype Network')\n",
        "plt.tight_layout()\n",
        "# Save the plot as a 600 DPI PNG image\n",
        "plt.savefig(\"haplotype_network.png\", dpi=600, format='png')  # High DPI save\n",
        "\n",
        "# Show the plot\n",
        "plt.show()"
      ],
      "metadata": {
        "id": "ep0ur5m3xyKU",
        "cellView": "form"
      },
      "execution_count": null,
      "outputs": []
    },
    {
      "cell_type": "markdown",
      "source": [
        "#Congratulation\n",
        "\n",
        "That's great - You Learned Something in the most easiest way possible.\n",
        "If you want to keep learning with me - Please support my work on [Bioinformatics Insights](https://youtu.be/gCo0vKg1MQg)."
      ],
      "metadata": {
        "id": "7KkDHJOgFHwP"
      }
    }
  ]
}